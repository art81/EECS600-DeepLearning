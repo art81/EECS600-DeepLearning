{
  "nbformat": 4,
  "nbformat_minor": 0,
  "metadata": {
    "colab": {
      "name": "EECS600_HW3.ipynb",
      "provenance": [],
      "collapsed_sections": []
    },
    "kernelspec": {
      "name": "python3",
      "display_name": "Python 3"
    },
    "accelerator": "GPU"
  },
  "cells": [
    {
      "cell_type": "markdown",
      "metadata": {
        "id": "pnFbvwkcNoqq",
        "colab_type": "text"
      },
      "source": [
        "# Homework 3 - EECS 600 Deep Learning\n",
        "\n",
        "Name: Andrew Tarnoff\n",
        "\n",
        "Instructions: All assignments are to be completed individually. Please complete each question as best you can. Once you have completed all of the problems, reset your runtime or kernel and run the notebook in order. Download the .ipynb file and submit it via Canvas.\n",
        "\n",
        "Library usage: Several of the algorithms implemented in this, and other assignments, have implementations available in tensorflow. For this assignment, you may use any of the functionality within tensorflow.\n",
        "\n",
        "All code presented in class is free to use in your assignments.\n",
        "\n",
        "Your grade is based on the correctness of your implementation, not the quality of your code but you are encouraged to include comments in your code to help the graders understand your decisions.\n",
        "\n",
        "For clarity, the final operation you should take is restarting the runtime and running all.\n",
        "\n",
        "Due Date: 12/6/19 - midnight EST\n",
        "\n",
        "100 Points Total"
      ]
    },
    {
      "cell_type": "code",
      "metadata": {
        "id": "ElBYya4BNs_v",
        "colab_type": "code",
        "colab": {}
      },
      "source": [
        "#%tensorflow_version 2.x\n",
        "import tensorflow as tf\n",
        "import numpy as np\n",
        "import matplotlib.pyplot as plt\n",
        "import keras\n",
        "import random\n",
        "\n",
        "from keras.models import Model,Sequential\n",
        "from keras.layers.advanced_activations import LeakyReLU\n",
        "from keras.optimizers import adam\n",
        "from tensorflow.keras import layers\n",
        "from tensorflow.keras.layers import Dense,Flatten,Input,Reshape\n",
        "\n",
        "import random\n",
        "from tqdm import tqdm\n",
        "\n",
        "%matplotlib inline\n",
        "tf.compat.v1.disable_eager_execution()\n",
        "#tf.compat.v1.enable_eager_execution()"
      ],
      "execution_count": 0,
      "outputs": []
    },
    {
      "cell_type": "code",
      "metadata": {
        "id": "iy2kpBq8NxFT",
        "colab_type": "code",
        "colab": {}
      },
      "source": [
        "fashion_mnist = tf.keras.datasets.fashion_mnist\n",
        "\n",
        "(train_images, train_labels), (test_images, test_labels) = fashion_mnist.load_data()\n",
        "train_images = (np.reshape(train_images, (len(train_images),28,28,1)).astype('float32') - 127.5) / 127.5\n",
        "test_images = (np.reshape(test_images, (len(test_images),28,28,1)).astype('float32') - 127.5) / 127.5\n",
        "\n",
        "BUFFER_SIZE = 60000\n",
        "BATCH_SIZE = 256\n",
        "# Batch and shuffle the data\n",
        "train_dataset = tf.data.Dataset.from_tensor_slices(train_images).shuffle(BUFFER_SIZE).batch(BATCH_SIZE)"
      ],
      "execution_count": 0,
      "outputs": []
    },
    {
      "cell_type": "markdown",
      "metadata": {
        "id": "_EqfoQQmE-m9",
        "colab_type": "text"
      },
      "source": [
        "Loading the dataset returns four NumPy arrays:\n",
        "\n",
        "The train_images and train_labels arrays are the training set—the data the model uses to learn.\n",
        "The images are 28x28 NumPy arrays, with pixel values ranging from 0 to 255. The labels are an array of integers, ranging from 0 to 9. These correspond to the class of clothing the image represents:\n",
        "\n",
        "Label |\tClass\n",
        "------|------\n",
        "0 |\tT-shirt/top\n",
        "1 |\tTrouser\n",
        "2 |\tPullover\n",
        "3 |\tDress\n",
        "4 |\tCoat\n",
        "5 |\tSandal\n",
        "6 |\tShirt\n",
        "7 |\tSneaker\n",
        "8 |\tBag\n",
        "9 |\tAnkle boot\n",
        "\n",
        "Each image is mapped to a single label. Since the class names are not included with the dataset.\n",
        "\n",
        "More information and a working example using this dataset here: https://www.tensorflow.org/tutorials/keras/classification."
      ]
    },
    {
      "cell_type": "markdown",
      "metadata": {
        "id": "adcmfAIFT7o3",
        "colab_type": "text"
      },
      "source": [
        "## Recommendation\n",
        "When building and testing your code, work on a smaller subset of the data. [This example](https://stackoverflow.com/questions/14262654/numpy-get-random-set-of-rows-from-2d-array) may help in that.\n"
      ]
    },
    {
      "cell_type": "markdown",
      "metadata": {
        "id": "_udcy0TEQ_pK",
        "colab_type": "text"
      },
      "source": [
        "# Question 1\n",
        "Implement a Deep Convolutional Generative Adversarial Network for generating fasion MNIST photos."
      ]
    },
    {
      "cell_type": "code",
      "metadata": {
        "id": "A-AJ_KpMO9r5",
        "colab_type": "code",
        "outputId": "2363f1bd-087f-4a87-f8d5-efb9bd25143f",
        "colab": {
          "base_uri": "https://localhost:8080/",
          "height": 315
        }
      },
      "source": [
        "#(train_images, train_labels), (test_images, test_labels) = fashion_mnist.load_data()\n",
        "\n",
        "def plotImage(img):\n",
        "  figure, axes = plt.subplots(nrows=2, ncols=1)\n",
        "  figure.set_size_inches(5, 5)\n",
        "  \n",
        "  for idx, axis in enumerate(axes.flat):\n",
        "    reconstrImage = np.reshape(img, (28, 28))*127.5 + 127.5\n",
        "    \n",
        "    axis.imshow(reconstrImage, cmap=plt.cm.gray)\n",
        "    axis.set_frame_on(False)\n",
        "    axis.set_axis_off()\n",
        "\n",
        "def getRandomSampleFromDataset():\n",
        "  idx = random.choice(range(len(train_images)))\n",
        "  return train_images[idx, :]\n",
        "\n",
        "plotImage(getRandomSampleFromDataset())"
      ],
      "execution_count": 0,
      "outputs": [
        {
          "output_type": "error",
          "ename": "NameError",
          "evalue": "ignored",
          "traceback": [
            "\u001b[0;31m---------------------------------------------------------------------------\u001b[0m",
            "\u001b[0;31mNameError\u001b[0m                                 Traceback (most recent call last)",
            "\u001b[0;32m<ipython-input-1-402488772bc8>\u001b[0m in \u001b[0;36m<module>\u001b[0;34m()\u001b[0m\n\u001b[1;32m     15\u001b[0m   \u001b[0;32mreturn\u001b[0m \u001b[0mtrain_images\u001b[0m\u001b[0;34m[\u001b[0m\u001b[0midx\u001b[0m\u001b[0;34m,\u001b[0m \u001b[0;34m:\u001b[0m\u001b[0;34m]\u001b[0m\u001b[0;34m\u001b[0m\u001b[0;34m\u001b[0m\u001b[0m\n\u001b[1;32m     16\u001b[0m \u001b[0;34m\u001b[0m\u001b[0m\n\u001b[0;32m---> 17\u001b[0;31m \u001b[0mplotImage\u001b[0m\u001b[0;34m(\u001b[0m\u001b[0mgetRandomSampleFromDataset\u001b[0m\u001b[0;34m(\u001b[0m\u001b[0;34m)\u001b[0m\u001b[0;34m)\u001b[0m\u001b[0;34m\u001b[0m\u001b[0;34m\u001b[0m\u001b[0m\n\u001b[0m",
            "\u001b[0;32m<ipython-input-1-402488772bc8>\u001b[0m in \u001b[0;36mgetRandomSampleFromDataset\u001b[0;34m()\u001b[0m\n\u001b[1;32m     12\u001b[0m \u001b[0;34m\u001b[0m\u001b[0m\n\u001b[1;32m     13\u001b[0m \u001b[0;32mdef\u001b[0m \u001b[0mgetRandomSampleFromDataset\u001b[0m\u001b[0;34m(\u001b[0m\u001b[0;34m)\u001b[0m\u001b[0;34m:\u001b[0m\u001b[0;34m\u001b[0m\u001b[0;34m\u001b[0m\u001b[0m\n\u001b[0;32m---> 14\u001b[0;31m   \u001b[0midx\u001b[0m \u001b[0;34m=\u001b[0m \u001b[0mrandom\u001b[0m\u001b[0;34m.\u001b[0m\u001b[0mchoice\u001b[0m\u001b[0;34m(\u001b[0m\u001b[0mrange\u001b[0m\u001b[0;34m(\u001b[0m\u001b[0mlen\u001b[0m\u001b[0;34m(\u001b[0m\u001b[0mtrain_images\u001b[0m\u001b[0;34m)\u001b[0m\u001b[0;34m)\u001b[0m\u001b[0;34m)\u001b[0m\u001b[0;34m\u001b[0m\u001b[0;34m\u001b[0m\u001b[0m\n\u001b[0m\u001b[1;32m     15\u001b[0m   \u001b[0;32mreturn\u001b[0m \u001b[0mtrain_images\u001b[0m\u001b[0;34m[\u001b[0m\u001b[0midx\u001b[0m\u001b[0;34m,\u001b[0m \u001b[0;34m:\u001b[0m\u001b[0;34m]\u001b[0m\u001b[0;34m\u001b[0m\u001b[0;34m\u001b[0m\u001b[0m\n\u001b[1;32m     16\u001b[0m \u001b[0;34m\u001b[0m\u001b[0m\n",
            "\u001b[0;31mNameError\u001b[0m: name 'random' is not defined"
          ]
        }
      ]
    },
    {
      "cell_type": "markdown",
      "metadata": {
        "id": "pZh2JzpHTgp8",
        "colab_type": "text"
      },
      "source": [
        "# DEFINING THE GENERATOR AND DIFFERENTIATOR"
      ]
    },
    {
      "cell_type": "code",
      "metadata": {
        "id": "TFUzpyqgTgD5",
        "colab_type": "code",
        "outputId": "8ba0f01c-cd14-4455-918f-9e8ff11bc9a5",
        "colab": {
          "base_uri": "https://localhost:8080/",
          "height": 1000
        }
      },
      "source": [
        "def make_generator_model():\n",
        "    model = tf.keras.Sequential(name = 'Generator')\n",
        "    model.add(layers.Dense(7*7*256, use_bias=False, input_shape=(100,)))\n",
        "    model.add(layers.BatchNormalization())\n",
        "    model.add(layers.LeakyReLU())\n",
        "\n",
        "    model.add(layers.Reshape((7, 7, 256)))\n",
        "    assert model.output_shape == (None, 7, 7, 256) # Note: None is the batch size\n",
        "\n",
        "    model.add(layers.Conv2DTranspose(128, (5, 5), strides=(1, 1), padding='same', use_bias=False))\n",
        "    assert model.output_shape == (None, 7, 7, 128)\n",
        "    model.add(layers.BatchNormalization())\n",
        "    model.add(layers.LeakyReLU())\n",
        "\n",
        "    model.add(layers.Conv2DTranspose(64, (5, 5), strides=(2, 2), padding='same', use_bias=False))\n",
        "    assert model.output_shape == (None, 14, 14, 64)\n",
        "    model.add(layers.BatchNormalization())\n",
        "    model.add(layers.LeakyReLU())\n",
        "\n",
        "    model.add(layers.Conv2DTranspose(1, (3, 3), strides=(2, 2), padding='same', use_bias=False, activation='tanh'))\n",
        "    assert model.output_shape == (None, 28, 28, 1)\n",
        "\n",
        "    return model\n",
        "\n",
        "def make_discriminator_model():\n",
        "    model = tf.keras.Sequential(name = 'Discriminator')\n",
        "    model.add(layers.Conv2D(64, (5, 5), strides=(2, 2), padding='same', input_shape=[28, 28, 1]))\n",
        "    model.add(layers.LeakyReLU())\n",
        "    model.add(layers.Dropout(0.3))\n",
        "\n",
        "    model.add(layers.Conv2D(128, (5, 5), strides=(2, 2), padding='same'))\n",
        "    model.add(layers.LeakyReLU())\n",
        "    model.add(layers.Dropout(0.3))\n",
        "\n",
        "    model.add(layers.Flatten())\n",
        "    model.add(layers.Dense(1))\n",
        "\n",
        "    return model\n",
        "\n",
        "#Test these\n",
        "generator = make_generator_model()\n",
        "print(generator.summary())\n",
        "\n",
        "discriminator = make_discriminator_model()\n",
        "print(discriminator.summary())"
      ],
      "execution_count": 0,
      "outputs": [
        {
          "output_type": "stream",
          "text": [
            "Model: \"sequential\"\n",
            "_________________________________________________________________\n",
            "Layer (type)                 Output Shape              Param #   \n",
            "=================================================================\n",
            "dense (Dense)                (None, 12544)             1254400   \n",
            "_________________________________________________________________\n",
            "batch_normalization (BatchNo (None, 12544)             50176     \n",
            "_________________________________________________________________\n",
            "leaky_re_lu (LeakyReLU)      (None, 12544)             0         \n",
            "_________________________________________________________________\n",
            "reshape (Reshape)            (None, 7, 7, 256)         0         \n",
            "_________________________________________________________________\n",
            "conv2d_transpose (Conv2DTran (None, 7, 7, 128)         819200    \n",
            "_________________________________________________________________\n",
            "batch_normalization_1 (Batch (None, 7, 7, 128)         512       \n",
            "_________________________________________________________________\n",
            "leaky_re_lu_1 (LeakyReLU)    (None, 7, 7, 128)         0         \n",
            "_________________________________________________________________\n",
            "conv2d_transpose_1 (Conv2DTr (None, 14, 14, 64)        204800    \n",
            "_________________________________________________________________\n",
            "batch_normalization_2 (Batch (None, 14, 14, 64)        256       \n",
            "_________________________________________________________________\n",
            "leaky_re_lu_2 (LeakyReLU)    (None, 14, 14, 64)        0         \n",
            "_________________________________________________________________\n",
            "conv2d_transpose_2 (Conv2DTr (None, 28, 28, 1)         576       \n",
            "=================================================================\n",
            "Total params: 2,329,920\n",
            "Trainable params: 2,304,448\n",
            "Non-trainable params: 25,472\n",
            "_________________________________________________________________\n",
            "None\n",
            "Model: \"sequential_1\"\n",
            "_________________________________________________________________\n",
            "Layer (type)                 Output Shape              Param #   \n",
            "=================================================================\n",
            "conv2d (Conv2D)              (None, 14, 14, 64)        1664      \n",
            "_________________________________________________________________\n",
            "leaky_re_lu_3 (LeakyReLU)    (None, 14, 14, 64)        0         \n",
            "_________________________________________________________________\n",
            "dropout (Dropout)            (None, 14, 14, 64)        0         \n",
            "_________________________________________________________________\n",
            "conv2d_1 (Conv2D)            (None, 7, 7, 128)         204928    \n",
            "_________________________________________________________________\n",
            "leaky_re_lu_4 (LeakyReLU)    (None, 7, 7, 128)         0         \n",
            "_________________________________________________________________\n",
            "dropout_1 (Dropout)          (None, 7, 7, 128)         0         \n",
            "_________________________________________________________________\n",
            "flatten (Flatten)            (None, 6272)              0         \n",
            "_________________________________________________________________\n",
            "dense_1 (Dense)              (None, 1)                 6273      \n",
            "=================================================================\n",
            "Total params: 212,865\n",
            "Trainable params: 212,865\n",
            "Non-trainable params: 0\n",
            "_________________________________________________________________\n",
            "None\n"
          ],
          "name": "stdout"
        }
      ]
    },
    {
      "cell_type": "markdown",
      "metadata": {
        "id": "-DoICZjEwxbB",
        "colab_type": "text"
      },
      "source": [
        "Test These Models:"
      ]
    },
    {
      "cell_type": "code",
      "metadata": {
        "id": "tXAVxIxWwwpR",
        "colab_type": "code",
        "outputId": "91e1fc3a-a716-4ae1-ffb7-5d7614c5da2c",
        "colab": {
          "base_uri": "https://localhost:8080/",
          "height": 283
        }
      },
      "source": [
        "noise = tf.random.normal([1, 100])\n",
        "generated_image = generator(noise, training=False)\n",
        "\n",
        "plt.imshow(generated_image[0, :, :, 0], cmap='gray')\n",
        "\n",
        "pred = discriminator(generated_image, training=False)\n",
        "print(pred)"
      ],
      "execution_count": 0,
      "outputs": [
        {
          "output_type": "stream",
          "text": [
            "tf.Tensor([[0.00264615]], shape=(1, 1), dtype=float32)\n"
          ],
          "name": "stdout"
        },
        {
          "output_type": "display_data",
          "data": {
            "image/png": "[encoded data removed]",
            "text/plain": [
              "<Figure size 432x288 with 1 Axes>"
            ]
          },
          "metadata": {
            "tags": []
          }
        }
      ]
    },
    {
      "cell_type": "markdown",
      "metadata": {
        "id": "d8b2o7ETFS_f",
        "colab_type": "text"
      },
      "source": [
        "## DEFINE LOSS, AND DEFINE OPTIMIZER"
      ]
    },
    {
      "cell_type": "code",
      "metadata": {
        "id": "Digd3_VSFXVL",
        "colab_type": "code",
        "colab": {}
      },
      "source": [
        "cross_entropy = tf.keras.losses.BinaryCrossentropy(from_logits=True)\n",
        "\n",
        "def discriminator_loss(real_output, fake_output):\n",
        "    real_loss = cross_entropy(tf.ones_like(real_output), real_output)\n",
        "    fake_loss = cross_entropy(tf.zeros_like(fake_output), fake_output)\n",
        "    total_loss = real_loss + fake_loss\n",
        "    return total_loss\n",
        "\n",
        "def generator_loss(fake_output):\n",
        "    return cross_entropy(tf.ones_like(fake_output), fake_output)\n",
        "\n",
        "generator_optimizer     = tf.keras.optimizers.Adam(1e-4)\n",
        "discriminator_optimizer = tf.keras.optimizers.Adam(1e-4)"
      ],
      "execution_count": 0,
      "outputs": []
    },
    {
      "cell_type": "markdown",
      "metadata": {
        "id": "BD0E7hj3IvGN",
        "colab_type": "text"
      },
      "source": [
        "# SETUP TRAINING"
      ]
    },
    {
      "cell_type": "code",
      "metadata": {
        "id": "xrF9uKxfIzXy",
        "colab_type": "code",
        "colab": {}
      },
      "source": [
        "# Notice the use of `tf.function`\n",
        "# This annotation causes the function to be \"compiled\".\n",
        "@tf.function\n",
        "def train_step(images, noise_dim=100):\n",
        "    noise = tf.random.normal([BATCH_SIZE, noise_dim])\n",
        "\n",
        "    with tf.GradientTape() as gen_tape, tf.GradientTape() as disc_tape:\n",
        "      generated_images = generator(noise, training=True)\n",
        "\n",
        "      real_output = discriminator(images, training=True)\n",
        "      fake_output = discriminator(generated_images, training=True)\n",
        "\n",
        "      gen_loss = generator_loss(fake_output)\n",
        "      disc_loss = discriminator_loss(real_output, fake_output)\n",
        "\n",
        "    gradients_of_generator = gen_tape.gradient(gen_loss, generator.trainable_variables)\n",
        "    gradients_of_discriminator = disc_tape.gradient(disc_loss, discriminator.trainable_variables)\n",
        "\n",
        "    generator_optimizer.apply_gradients(zip(gradients_of_generator, generator.trainable_variables))\n",
        "    discriminator_optimizer.apply_gradients(zip(gradients_of_discriminator, discriminator.trainable_variables))\n",
        "\n",
        "    return gen_loss, disc_loss\n",
        "\n",
        "def train_OLD(num_epochs=100, batch_size=64):\n",
        "  generator = make_generator_model()\n",
        "  discriminator = make_discriminator_model()\n",
        "\n",
        "  gen_loss_epochs = []\n",
        "  disc_loss_epochs = []\n",
        "\n",
        "  train_dataset = tf.data.Dataset.from_tensor_slices(train_images)\n",
        "\n",
        "  for epoch in range(1, num_epochs + 1):\n",
        "    train_batches = train_dataset.shuffle(100).batch(batch_size)\n",
        "    \n",
        "    gens = []\n",
        "    discs = []\n",
        "    for sampleImages in train_batches:\n",
        "      gen_loss, disc_loss = train_step(generator, discriminator, sampleImages)\n",
        "\n",
        "      gen = gen_loss.numpy().mean()\n",
        "      disc = disc_loss.numpy().mean()\n",
        "      gens.append(gen)\n",
        "      discs.append(disc)\n",
        "    print(f'On epoch {epoch} the generator loss is {np.mean(gens):.2f}, the discriminator loss is {np.mean(discs):.2f}')\n",
        "    gen_loss_epochs.append(np.mean(gens))\n",
        "    disc_loss_epochs.append(np.mean(discs))\n",
        "  return gen_loss_epochs, disc_loss_epochs, generator, discriminator\n",
        "\n",
        "def train(dataset, num_epochs):\n",
        "  gen_loss_epochs = []\n",
        "  disc_loss_epochs = []\n",
        "\n",
        "  for epoch in range(1, num_epochs+1):\n",
        "    gens = []\n",
        "    discs = []\n",
        "    for image_batch in dataset:\n",
        "      gen_loss, disc_loss = train_step(image_batch)\n",
        "      gen = gen_loss.numpy().mean()\n",
        "      disc = disc_loss.numpy().mean()\n",
        "      gens.append(gen)\n",
        "      discs.append(disc)\n",
        "\n",
        "    print(f'On epoch {epoch} the generator loss is {np.mean(gens):.2f}, the discriminator loss is {np.mean(discs):.2f}')\n",
        "    gen_loss_epochs.append(np.mean(gens))\n",
        "    disc_loss_epochs.append(np.mean(discs))\n",
        "\n",
        "  return gen_loss_epochs, disc_loss_epochs, generator, discriminator\n"
      ],
      "execution_count": 0,
      "outputs": []
    },
    {
      "cell_type": "code",
      "metadata": {
        "id": "0eMYMQYDSLN2",
        "colab_type": "code",
        "outputId": "20145347-861e-4fb1-a02d-7c5d806bd589",
        "colab": {
          "base_uri": "https://localhost:8080/",
          "height": 1000
        }
      },
      "source": [
        "EPOCHS = 200\n",
        "gen_loss, disc_loss, generator, discriminator = train(train_dataset, num_epochs=EPOCHS)"
      ],
      "execution_count": 0,
      "outputs": [
        {
          "output_type": "stream",
          "text": [
            "WARNING:tensorflow:From /usr/local/lib/python3.6/dist-packages/tensorflow_core/python/ops/nn_impl.py:183: where (from tensorflow.python.ops.array_ops) is deprecated and will be removed in a future version.\n",
            "Instructions for updating:\n",
            "Use tf.where in 2.0, which has the same broadcast rule as np.where\n",
            "On epoch 0 the generator loss is 0.99, the discriminator loss is 0.87\n",
            "On epoch 1 the generator loss is 0.91, the discriminator loss is 1.20\n",
            "On epoch 2 the generator loss is 0.90, the discriminator loss is 1.17\n",
            "On epoch 3 the generator loss is 0.85, the discriminator loss is 1.28\n",
            "On epoch 4 the generator loss is 0.83, the discriminator loss is 1.30\n",
            "On epoch 5 the generator loss is 0.89, the discriminator loss is 1.25\n",
            "On epoch 6 the generator loss is 0.89, the discriminator loss is 1.25\n",
            "On epoch 7 the generator loss is 0.98, the discriminator loss is 1.18\n",
            "On epoch 8 the generator loss is 0.98, the discriminator loss is 1.14\n",
            "On epoch 9 the generator loss is 1.04, the discriminator loss is 1.13\n",
            "On epoch 10 the generator loss is 1.01, the discriminator loss is 1.15\n",
            "On epoch 11 the generator loss is 1.08, the discriminator loss is 1.10\n",
            "On epoch 12 the generator loss is 1.14, the discriminator loss is 1.00\n",
            "On epoch 13 the generator loss is 1.19, the discriminator loss is 1.03\n",
            "On epoch 14 the generator loss is 1.30, the discriminator loss is 0.94\n",
            "On epoch 15 the generator loss is 1.37, the discriminator loss is 0.89\n",
            "On epoch 16 the generator loss is 1.39, the discriminator loss is 0.86\n",
            "On epoch 17 the generator loss is 1.46, the discriminator loss is 0.87\n",
            "On epoch 18 the generator loss is 1.50, the discriminator loss is 0.87\n",
            "On epoch 19 the generator loss is 1.59, the discriminator loss is 0.82\n",
            "On epoch 20 the generator loss is 1.55, the discriminator loss is 0.89\n",
            "On epoch 21 the generator loss is 1.47, the discriminator loss is 0.87\n",
            "On epoch 22 the generator loss is 1.49, the discriminator loss is 0.86\n",
            "On epoch 23 the generator loss is 1.52, the discriminator loss is 0.87\n",
            "On epoch 24 the generator loss is 1.50, the discriminator loss is 0.88\n",
            "On epoch 25 the generator loss is 1.54, the discriminator loss is 0.86\n",
            "On epoch 26 the generator loss is 1.52, the discriminator loss is 0.87\n",
            "On epoch 27 the generator loss is 1.55, the discriminator loss is 0.86\n",
            "On epoch 28 the generator loss is 1.73, the discriminator loss is 0.79\n",
            "On epoch 29 the generator loss is 1.58, the discriminator loss is 0.85\n",
            "On epoch 30 the generator loss is 1.43, the discriminator loss is 0.95\n",
            "On epoch 31 the generator loss is 1.52, the discriminator loss is 0.88\n",
            "On epoch 32 the generator loss is 1.42, the discriminator loss is 0.93\n",
            "On epoch 33 the generator loss is 1.49, the discriminator loss is 0.88\n",
            "On epoch 34 the generator loss is 1.45, the discriminator loss is 0.92\n",
            "On epoch 35 the generator loss is 1.41, the discriminator loss is 0.95\n",
            "On epoch 36 the generator loss is 1.41, the discriminator loss is 0.94\n",
            "On epoch 37 the generator loss is 1.43, the discriminator loss is 0.98\n",
            "On epoch 38 the generator loss is 1.42, the discriminator loss is 0.96\n",
            "On epoch 39 the generator loss is 1.42, the discriminator loss is 0.97\n",
            "On epoch 40 the generator loss is 1.34, the discriminator loss is 1.01\n",
            "On epoch 41 the generator loss is 1.44, the discriminator loss is 0.95\n",
            "On epoch 42 the generator loss is 1.44, the discriminator loss is 0.93\n",
            "On epoch 43 the generator loss is 1.31, the discriminator loss is 1.01\n",
            "On epoch 44 the generator loss is 1.34, the discriminator loss is 1.01\n",
            "On epoch 45 the generator loss is 1.30, the discriminator loss is 1.02\n",
            "On epoch 46 the generator loss is 1.29, the discriminator loss is 1.01\n",
            "On epoch 47 the generator loss is 1.39, the discriminator loss is 0.96\n",
            "On epoch 48 the generator loss is 1.42, the discriminator loss is 0.95\n",
            "On epoch 49 the generator loss is 1.30, the discriminator loss is 1.03\n",
            "On epoch 50 the generator loss is 1.28, the discriminator loss is 1.05\n",
            "On epoch 51 the generator loss is 1.29, the discriminator loss is 1.03\n",
            "On epoch 52 the generator loss is 1.32, the discriminator loss is 1.01\n",
            "On epoch 53 the generator loss is 1.27, the discriminator loss is 1.02\n",
            "On epoch 54 the generator loss is 1.29, the discriminator loss is 1.04\n",
            "On epoch 55 the generator loss is 1.29, the discriminator loss is 1.03\n",
            "On epoch 56 the generator loss is 1.26, the discriminator loss is 1.04\n",
            "On epoch 57 the generator loss is 1.36, the discriminator loss is 1.00\n",
            "On epoch 58 the generator loss is 1.35, the discriminator loss is 1.00\n",
            "On epoch 59 the generator loss is 1.33, the discriminator loss is 1.01\n",
            "On epoch 60 the generator loss is 1.30, the discriminator loss is 1.02\n",
            "On epoch 61 the generator loss is 1.27, the discriminator loss is 1.05\n",
            "On epoch 62 the generator loss is 1.27, the discriminator loss is 1.04\n",
            "On epoch 63 the generator loss is 1.23, the discriminator loss is 1.07\n",
            "On epoch 64 the generator loss is 1.24, the discriminator loss is 1.05\n",
            "On epoch 65 the generator loss is 1.23, the discriminator loss is 1.08\n",
            "On epoch 66 the generator loss is 1.23, the discriminator loss is 1.05\n",
            "On epoch 67 the generator loss is 1.29, the discriminator loss is 1.03\n",
            "On epoch 68 the generator loss is 1.24, the discriminator loss is 1.04\n",
            "On epoch 69 the generator loss is 1.19, the discriminator loss is 1.10\n",
            "On epoch 70 the generator loss is 1.17, the discriminator loss is 1.09\n",
            "On epoch 71 the generator loss is 1.22, the discriminator loss is 1.07\n",
            "On epoch 72 the generator loss is 1.26, the discriminator loss is 1.06\n",
            "On epoch 73 the generator loss is 1.17, the discriminator loss is 1.09\n",
            "On epoch 74 the generator loss is 1.18, the discriminator loss is 1.09\n",
            "On epoch 75 the generator loss is 1.15, the discriminator loss is 1.11\n",
            "On epoch 76 the generator loss is 1.14, the discriminator loss is 1.11\n",
            "On epoch 77 the generator loss is 1.19, the discriminator loss is 1.07\n",
            "On epoch 78 the generator loss is 1.20, the discriminator loss is 1.08\n",
            "On epoch 79 the generator loss is 1.20, the discriminator loss is 1.09\n",
            "On epoch 80 the generator loss is 1.23, the discriminator loss is 1.08\n",
            "On epoch 81 the generator loss is 1.22, the discriminator loss is 1.08\n",
            "On epoch 82 the generator loss is 1.12, the discriminator loss is 1.14\n",
            "On epoch 83 the generator loss is 1.09, the discriminator loss is 1.15\n",
            "On epoch 84 the generator loss is 1.10, the discriminator loss is 1.14\n",
            "On epoch 85 the generator loss is 1.12, the discriminator loss is 1.14\n",
            "On epoch 86 the generator loss is 1.17, the discriminator loss is 1.10\n",
            "On epoch 87 the generator loss is 1.12, the discriminator loss is 1.15\n",
            "On epoch 88 the generator loss is 1.10, the discriminator loss is 1.16\n",
            "On epoch 89 the generator loss is 1.05, the discriminator loss is 1.20\n",
            "On epoch 90 the generator loss is 1.06, the discriminator loss is 1.18\n",
            "On epoch 91 the generator loss is 1.06, the discriminator loss is 1.18\n",
            "On epoch 92 the generator loss is 1.06, the discriminator loss is 1.19\n",
            "On epoch 93 the generator loss is 1.05, the discriminator loss is 1.18\n",
            "On epoch 94 the generator loss is 1.04, the discriminator loss is 1.20\n",
            "On epoch 95 the generator loss is 1.07, the discriminator loss is 1.16\n",
            "On epoch 96 the generator loss is 1.12, the discriminator loss is 1.13\n",
            "On epoch 97 the generator loss is 1.10, the discriminator loss is 1.13\n",
            "On epoch 98 the generator loss is 1.04, the discriminator loss is 1.20\n",
            "On epoch 99 the generator loss is 1.02, the discriminator loss is 1.22\n",
            "On epoch 100 the generator loss is 1.04, the discriminator loss is 1.19\n",
            "On epoch 101 the generator loss is 1.04, the discriminator loss is 1.19\n",
            "On epoch 102 the generator loss is 1.03, the discriminator loss is 1.19\n",
            "On epoch 103 the generator loss is 1.01, the discriminator loss is 1.20\n",
            "On epoch 104 the generator loss is 1.01, the discriminator loss is 1.20\n",
            "On epoch 105 the generator loss is 0.99, the discriminator loss is 1.22\n",
            "On epoch 106 the generator loss is 0.99, the discriminator loss is 1.22\n",
            "On epoch 107 the generator loss is 1.01, the discriminator loss is 1.20\n",
            "On epoch 108 the generator loss is 1.01, the discriminator loss is 1.20\n",
            "On epoch 109 the generator loss is 1.05, the discriminator loss is 1.17\n",
            "On epoch 110 the generator loss is 1.00, the discriminator loss is 1.21\n",
            "On epoch 111 the generator loss is 1.00, the discriminator loss is 1.21\n",
            "On epoch 112 the generator loss is 1.01, the discriminator loss is 1.20\n",
            "On epoch 113 the generator loss is 1.01, the discriminator loss is 1.20\n",
            "On epoch 114 the generator loss is 1.00, the discriminator loss is 1.20\n",
            "On epoch 115 the generator loss is 0.99, the discriminator loss is 1.22\n",
            "On epoch 116 the generator loss is 0.99, the discriminator loss is 1.21\n",
            "On epoch 117 the generator loss is 0.99, the discriminator loss is 1.22\n",
            "On epoch 118 the generator loss is 1.01, the discriminator loss is 1.20\n",
            "On epoch 119 the generator loss is 1.03, the discriminator loss is 1.18\n",
            "On epoch 120 the generator loss is 1.00, the discriminator loss is 1.22\n",
            "On epoch 121 the generator loss is 0.98, the discriminator loss is 1.23\n",
            "On epoch 122 the generator loss is 0.97, the discriminator loss is 1.23\n",
            "On epoch 123 the generator loss is 0.98, the discriminator loss is 1.23\n",
            "On epoch 124 the generator loss is 0.98, the discriminator loss is 1.22\n",
            "On epoch 125 the generator loss is 1.00, the discriminator loss is 1.20\n",
            "On epoch 126 the generator loss is 1.03, the discriminator loss is 1.18\n",
            "On epoch 127 the generator loss is 0.98, the discriminator loss is 1.23\n",
            "On epoch 128 the generator loss is 0.96, the discriminator loss is 1.23\n",
            "On epoch 129 the generator loss is 0.96, the discriminator loss is 1.23\n",
            "On epoch 130 the generator loss is 0.99, the discriminator loss is 1.21\n",
            "On epoch 131 the generator loss is 0.96, the discriminator loss is 1.24\n",
            "On epoch 132 the generator loss is 0.97, the discriminator loss is 1.24\n",
            "On epoch 133 the generator loss is 1.06, the discriminator loss is 1.14\n",
            "On epoch 134 the generator loss is 1.23, the discriminator loss is 1.03\n",
            "On epoch 135 the generator loss is 1.06, the discriminator loss is 1.18\n",
            "On epoch 136 the generator loss is 0.98, the discriminator loss is 1.23\n",
            "On epoch 137 the generator loss is 1.03, the discriminator loss is 1.19\n",
            "On epoch 138 the generator loss is 0.98, the discriminator loss is 1.22\n",
            "On epoch 139 the generator loss is 0.96, the discriminator loss is 1.23\n",
            "On epoch 140 the generator loss is 0.95, the discriminator loss is 1.25\n",
            "On epoch 141 the generator loss is 0.96, the discriminator loss is 1.23\n",
            "On epoch 142 the generator loss is 0.96, the discriminator loss is 1.23\n",
            "On epoch 143 the generator loss is 0.96, the discriminator loss is 1.23\n",
            "On epoch 144 the generator loss is 0.98, the discriminator loss is 1.22\n",
            "On epoch 145 the generator loss is 0.98, the discriminator loss is 1.22\n",
            "On epoch 146 the generator loss is 1.01, the discriminator loss is 1.18\n",
            "On epoch 147 the generator loss is 1.03, the discriminator loss is 1.18\n",
            "On epoch 148 the generator loss is 0.98, the discriminator loss is 1.22\n",
            "On epoch 149 the generator loss is 0.95, the discriminator loss is 1.24\n",
            "On epoch 150 the generator loss is 0.95, the discriminator loss is 1.24\n",
            "On epoch 151 the generator loss is 0.98, the discriminator loss is 1.21\n",
            "On epoch 152 the generator loss is 1.00, the discriminator loss is 1.21\n",
            "On epoch 153 the generator loss is 0.98, the discriminator loss is 1.22\n",
            "On epoch 154 the generator loss is 0.95, the discriminator loss is 1.24\n",
            "On epoch 155 the generator loss is 0.95, the discriminator loss is 1.24\n",
            "On epoch 156 the generator loss is 0.95, the discriminator loss is 1.25\n",
            "On epoch 157 the generator loss is 0.96, the discriminator loss is 1.23\n",
            "On epoch 158 the generator loss is 1.00, the discriminator loss is 1.20\n",
            "On epoch 159 the generator loss is 0.97, the discriminator loss is 1.24\n",
            "On epoch 160 the generator loss is 0.95, the discriminator loss is 1.23\n",
            "On epoch 161 the generator loss is 0.94, the discriminator loss is 1.25\n",
            "On epoch 162 the generator loss is 0.96, the discriminator loss is 1.23\n",
            "On epoch 163 the generator loss is 1.09, the discriminator loss is 1.12\n",
            "On epoch 164 the generator loss is 1.23, the discriminator loss is 1.02\n",
            "On epoch 165 the generator loss is 1.03, the discriminator loss is 1.21\n",
            "On epoch 166 the generator loss is 0.96, the discriminator loss is 1.24\n",
            "On epoch 167 the generator loss is 0.97, the discriminator loss is 1.23\n",
            "On epoch 168 the generator loss is 0.94, the discriminator loss is 1.24\n",
            "On epoch 169 the generator loss is 0.94, the discriminator loss is 1.25\n",
            "On epoch 170 the generator loss is 0.94, the discriminator loss is 1.25\n",
            "On epoch 171 the generator loss is 0.95, the discriminator loss is 1.24\n",
            "On epoch 172 the generator loss is 0.95, the discriminator loss is 1.25\n",
            "On epoch 173 the generator loss is 1.05, the discriminator loss is 1.16\n",
            "On epoch 174 the generator loss is 1.14, the discriminator loss is 1.08\n",
            "On epoch 175 the generator loss is 1.12, the discriminator loss is 1.14\n",
            "On epoch 176 the generator loss is 0.97, the discriminator loss is 1.25\n",
            "On epoch 177 the generator loss is 0.95, the discriminator loss is 1.25\n",
            "On epoch 178 the generator loss is 0.95, the discriminator loss is 1.25\n",
            "On epoch 179 the generator loss is 0.94, the discriminator loss is 1.25\n",
            "On epoch 180 the generator loss is 0.94, the discriminator loss is 1.24\n",
            "On epoch 181 the generator loss is 0.95, the discriminator loss is 1.24\n",
            "On epoch 182 the generator loss is 0.97, the discriminator loss is 1.22\n",
            "On epoch 183 the generator loss is 0.99, the discriminator loss is 1.21\n",
            "On epoch 184 the generator loss is 0.96, the discriminator loss is 1.23\n",
            "On epoch 185 the generator loss is 0.94, the discriminator loss is 1.24\n",
            "On epoch 186 the generator loss is 0.94, the discriminator loss is 1.25\n",
            "On epoch 187 the generator loss is 0.94, the discriminator loss is 1.24\n",
            "On epoch 188 the generator loss is 0.94, the discriminator loss is 1.25\n",
            "On epoch 189 the generator loss is 0.94, the discriminator loss is 1.24\n",
            "On epoch 190 the generator loss is 0.94, the discriminator loss is 1.24\n",
            "On epoch 191 the generator loss is 0.95, the discriminator loss is 1.24\n",
            "On epoch 192 the generator loss is 0.95, the discriminator loss is 1.24\n",
            "On epoch 193 the generator loss is 0.97, the discriminator loss is 1.23\n",
            "On epoch 194 the generator loss is 0.94, the discriminator loss is 1.25\n",
            "On epoch 195 the generator loss is 0.92, the discriminator loss is 1.27\n",
            "On epoch 196 the generator loss is 0.92, the discriminator loss is 1.26\n",
            "On epoch 197 the generator loss is 0.92, the discriminator loss is 1.27\n",
            "On epoch 198 the generator loss is 0.94, the discriminator loss is 1.24\n",
            "On epoch 199 the generator loss is 0.99, the discriminator loss is 1.20\n",
            "On epoch 200 the generator loss is 0.93, the discriminator loss is 1.27\n"
          ],
          "name": "stdout"
        }
      ]
    },
    {
      "cell_type": "markdown",
      "metadata": {
        "id": "uRHfVOurEb-a",
        "colab_type": "text"
      },
      "source": [
        "Plot the loss functions for the generator and discriminator. Label them accordingly."
      ]
    },
    {
      "cell_type": "code",
      "metadata": {
        "id": "o0FmafAMEilj",
        "colab_type": "code",
        "outputId": "b34ecf65-8199-48b7-b60d-dffb6260bc8a",
        "colab": {
          "base_uri": "https://localhost:8080/",
          "height": 283
        }
      },
      "source": [
        "plt.figure()\n",
        "x = range(1, EPOCHS+2)\n",
        "plt.plot(x, gen_loss, x, disc_loss)\n",
        "plt.legend(['Generator Loss', 'Discriminator Loss'])\n"
      ],
      "execution_count": 0,
      "outputs": [
        {
          "output_type": "execute_result",
          "data": {
            "text/plain": [
              "<matplotlib.legend.Legend at 0x7f4d26f40048>"
            ]
          },
          "metadata": {
            "tags": []
          },
          "execution_count": 9
        },
        {
          "output_type": "display_data",
          "data": {
            "image/png": "[encoded data removed]",
            "text/plain": [
              "<Figure size 432x288 with 1 Axes>"
            ]
          },
          "metadata": {
            "tags": []
          }
        }
      ]
    },
    {
      "cell_type": "markdown",
      "metadata": {
        "id": "XHleXQWiEJzc",
        "colab_type": "text"
      },
      "source": [
        "Show three example generated photos using your model. Even though the images may not be perfect, it should be perceivable as a fashion photo."
      ]
    },
    {
      "cell_type": "code",
      "metadata": {
        "id": "gjPrCCnQETs6",
        "colab_type": "code",
        "outputId": "5c3a5c15-089e-4528-d7b7-e1c732aecc3e",
        "colab": {
          "base_uri": "https://localhost:8080/",
          "height": 129
        }
      },
      "source": [
        "def plotGeneratorOutput(generator, numRows=10, numCols=10):\n",
        "  results = generator(tf.random.uniform((numRows*numCols, 100), minval = -1.0, maxval = 1.0)).numpy()\n",
        "\n",
        "  figure, axes = plt.subplots(nrows=numRows, ncols=numCols)\n",
        "  figure.set_size_inches(2*numCols, 2*numRows)\n",
        "  \n",
        "  for idx, axis in enumerate(axes.flat):\n",
        "    image = np.reshape(results[idx], (28,28))*127.5+127.5\n",
        "    \n",
        "    axis.imshow(image, cmap=plt.cm.gray)\n",
        "    axis.set_frame_on(False)\n",
        "    axis.set_axis_off()\n",
        "\n",
        "plotGeneratorOutput(generator, 1, 3)"
      ],
      "execution_count": 0,
      "outputs": [
        {
          "output_type": "display_data",
          "data": {
            "image/png": "[encoded data removed]",
            "text/plain": [
              "<Figure size 432x144 with 3 Axes>"
            ]
          },
          "metadata": {
            "tags": []
          }
        }
      ]
    },
    {
      "cell_type": "markdown",
      "metadata": {
        "id": "IgCDWjv-Ejdy",
        "colab_type": "text"
      },
      "source": [
        "# Question 2\n",
        "Design a method to conditionally generate photos of different labels. Pick two classes within the MNIST fasion dataset, and use them to conditionally generate photos of those two classes. You will likely need to include another outcome variable in the discriminator to account for this."
      ]
    },
    {
      "cell_type": "code",
      "metadata": {
        "id": "mAUhls-PHX5_",
        "colab_type": "code",
        "outputId": "6510355a-edca-4d15-e95a-2370633f14b3",
        "colab": {
          "base_uri": "https://localhost:8080/",
          "height": 894
        }
      },
      "source": [
        "conditionalLabelNum = 10\n",
        "\n",
        "#Takes in a 100+conditionalLabelNum vector\n",
        "def make_cond_generator_model():\n",
        "  model = tf.keras.Sequential(name = 'Conditional Generator')\n",
        "  model.add(layers.Dense(7*7*256, use_bias=False, input_shape=(100 + conditionalLabelNum,)))\n",
        "  model.add(layers.BatchNormalization())\n",
        "  model.add(layers.LeakyReLU())\n",
        "\n",
        "  model.add(layers.Reshape((7, 7, 256)))\n",
        "  assert model.output_shape == (None, 7, 7, 256) # Note: None is the batch size\n",
        "\n",
        "  model.add(layers.Conv2DTranspose(128, (5, 5), strides=(1, 1), padding='same', use_bias=False))\n",
        "  assert model.output_shape == (None, 7, 7, 128)\n",
        "  model.add(layers.BatchNormalization())\n",
        "  model.add(layers.LeakyReLU())\n",
        "\n",
        "  model.add(layers.Conv2DTranspose(64, (5, 5), strides=(2, 2), padding='same', use_bias=False))\n",
        "  assert model.output_shape == (None, 14, 14, 64)\n",
        "  model.add(layers.BatchNormalization())\n",
        "  model.add(layers.LeakyReLU())\n",
        "\n",
        "  model.add(layers.Conv2DTranspose(1, (3, 3), strides=(2, 2), padding='same', use_bias=False, activation='tanh'))\n",
        "  assert model.output_shape == (None, 28, 28, 1)\n",
        "\n",
        "  return model\n",
        "\n",
        "def make_cond_discriminator_model():\n",
        "  # define two sets of inputs\n",
        "  inp_images = Input(shape=(28,28,1,))\n",
        "  inp_oneHot = Input(shape=(conditionalLabelNum,))\n",
        "  print(inp_oneHot)\n",
        "  dense1 = Dense(784, activation='relu')(inp_oneHot)\n",
        "  y = Reshape((28, 28, 1))(dense1)\n",
        "\n",
        "  y = Model(inputs=inp_oneHot, outputs=y)\n",
        "  imageModel = Model(inputs=inp_images, outputs=inp_images)\n",
        "\n",
        "  #Concatenate new one hot encoding image with inputted images\n",
        "  combined = layers.concatenate([imageModel.outputs, xFormModel.outputs])\n",
        "\n",
        "  conv1 = layers.Conv2D(64, (5, 5), strides=(2, 2), padding='same')(combined)\n",
        "  lRelu1 = layers.LeakyReLU()(conv1)\n",
        "  drop1 = layers.Dropout(0.3)(lRelu1)\n",
        "\n",
        "  conv2 = layers.Conv2D(128, (3, 3), strides=(2, 2), padding='same')(drop1)\n",
        "  lRelu2 = layers.LeakyReLU()(conv2)\n",
        "  drop2 = layers.Dropout(0.3)(lRelu2)\n",
        "\n",
        "  flat = layers.Flatten()(drop2)\n",
        "  prob = layers.Dense(1, input_shape=(7*7*128,))(flat)\n",
        "  print(prob)\n",
        "  print(inp_images)\n",
        "  print(inp_oneHot)\n",
        "  # This model allows us to concatenate one hot encodings to the images and then get the discriminator output\n",
        "  model = Model(inputs=[inp_images, inp_oneHot], outputs=prob, name='Conditional Discriminator')\n",
        "\n",
        "  return model\n",
        "\n",
        "#Test these\n",
        "cond_generator = make_cond_generator_model()\n",
        "print(generator.summary())\n",
        "\n",
        "cond_discriminator = make_cond_discriminator_model()\n",
        "print(discriminator.summary())"
      ],
      "execution_count": 0,
      "outputs": [
        {
          "output_type": "stream",
          "text": [
            "Model: \"sequential_4\"\n",
            "_________________________________________________________________\n",
            "Layer (type)                 Output Shape              Param #   \n",
            "=================================================================\n",
            "dense_4 (Dense)              (None, 12544)             1254400   \n",
            "_________________________________________________________________\n",
            "batch_normalization_6 (Batch (None, 12544)             50176     \n",
            "_________________________________________________________________\n",
            "leaky_re_lu_10 (LeakyReLU)   (None, 12544)             0         \n",
            "_________________________________________________________________\n",
            "reshape_2 (Reshape)          (None, 7, 7, 256)         0         \n",
            "_________________________________________________________________\n",
            "conv2d_transpose_6 (Conv2DTr (None, 7, 7, 128)         819200    \n",
            "_________________________________________________________________\n",
            "batch_normalization_7 (Batch (None, 7, 7, 128)         512       \n",
            "_________________________________________________________________\n",
            "leaky_re_lu_11 (LeakyReLU)   (None, 7, 7, 128)         0         \n",
            "_________________________________________________________________\n",
            "conv2d_transpose_7 (Conv2DTr (None, 14, 14, 64)        204800    \n",
            "_________________________________________________________________\n",
            "batch_normalization_8 (Batch (None, 14, 14, 64)        256       \n",
            "_________________________________________________________________\n",
            "leaky_re_lu_12 (LeakyReLU)   (None, 14, 14, 64)        0         \n",
            "_________________________________________________________________\n",
            "conv2d_transpose_8 (Conv2DTr (None, 28, 28, 1)         576       \n",
            "=================================================================\n",
            "Total params: 2,329,920\n",
            "Trainable params: 2,304,448\n",
            "Non-trainable params: 25,472\n",
            "_________________________________________________________________\n",
            "None\n",
            "Tensor(\"input_62:0\", shape=(?, 10), dtype=float32)\n"
          ],
          "name": "stdout"
        },
        {
          "output_type": "error",
          "ename": "TypeError",
          "evalue": "ignored",
          "traceback": [
            "\u001b[0;31m---------------------------------------------------------------------------\u001b[0m",
            "\u001b[0;31mTypeError\u001b[0m                                 Traceback (most recent call last)",
            "\u001b[0;32m<ipython-input-81-1042e60e3564>\u001b[0m in \u001b[0;36m<module>\u001b[0;34m()\u001b[0m\n\u001b[1;32m     62\u001b[0m \u001b[0mprint\u001b[0m\u001b[0;34m(\u001b[0m\u001b[0mgenerator\u001b[0m\u001b[0;34m.\u001b[0m\u001b[0msummary\u001b[0m\u001b[0;34m(\u001b[0m\u001b[0;34m)\u001b[0m\u001b[0;34m)\u001b[0m\u001b[0;34m\u001b[0m\u001b[0;34m\u001b[0m\u001b[0m\n\u001b[1;32m     63\u001b[0m \u001b[0;34m\u001b[0m\u001b[0m\n\u001b[0;32m---> 64\u001b[0;31m \u001b[0mcond_discriminator\u001b[0m \u001b[0;34m=\u001b[0m \u001b[0mmake_cond_discriminator_model\u001b[0m\u001b[0;34m(\u001b[0m\u001b[0;34m)\u001b[0m\u001b[0;34m\u001b[0m\u001b[0;34m\u001b[0m\u001b[0m\n\u001b[0m\u001b[1;32m     65\u001b[0m \u001b[0mprint\u001b[0m\u001b[0;34m(\u001b[0m\u001b[0mdiscriminator\u001b[0m\u001b[0;34m.\u001b[0m\u001b[0msummary\u001b[0m\u001b[0;34m(\u001b[0m\u001b[0;34m)\u001b[0m\u001b[0;34m)\u001b[0m\u001b[0;34m\u001b[0m\u001b[0;34m\u001b[0m\u001b[0m\n",
            "\u001b[0;32m<ipython-input-81-1042e60e3564>\u001b[0m in \u001b[0;36mmake_cond_discriminator_model\u001b[0;34m()\u001b[0m\n\u001b[1;32m     34\u001b[0m   \u001b[0my\u001b[0m \u001b[0;34m=\u001b[0m \u001b[0mReshape\u001b[0m\u001b[0;34m(\u001b[0m\u001b[0;34m(\u001b[0m\u001b[0;36m28\u001b[0m\u001b[0;34m,\u001b[0m \u001b[0;36m28\u001b[0m\u001b[0;34m,\u001b[0m \u001b[0;36m1\u001b[0m\u001b[0;34m)\u001b[0m\u001b[0;34m)\u001b[0m\u001b[0;34m(\u001b[0m\u001b[0mdense1\u001b[0m\u001b[0;34m)\u001b[0m\u001b[0;34m\u001b[0m\u001b[0;34m\u001b[0m\u001b[0m\n\u001b[1;32m     35\u001b[0m \u001b[0;34m\u001b[0m\u001b[0m\n\u001b[0;32m---> 36\u001b[0;31m   \u001b[0my\u001b[0m \u001b[0;34m=\u001b[0m \u001b[0mModel\u001b[0m\u001b[0;34m(\u001b[0m\u001b[0minputs\u001b[0m\u001b[0;34m=\u001b[0m\u001b[0minp_oneHot\u001b[0m\u001b[0;34m,\u001b[0m \u001b[0moutputs\u001b[0m\u001b[0;34m=\u001b[0m\u001b[0my\u001b[0m\u001b[0;34m)\u001b[0m\u001b[0;34m\u001b[0m\u001b[0;34m\u001b[0m\u001b[0m\n\u001b[0m\u001b[1;32m     37\u001b[0m   \u001b[0mimageModel\u001b[0m \u001b[0;34m=\u001b[0m \u001b[0mModel\u001b[0m\u001b[0;34m(\u001b[0m\u001b[0minputs\u001b[0m\u001b[0;34m=\u001b[0m\u001b[0minp_images\u001b[0m\u001b[0;34m,\u001b[0m \u001b[0moutputs\u001b[0m\u001b[0;34m=\u001b[0m\u001b[0minp_images\u001b[0m\u001b[0;34m)\u001b[0m\u001b[0;34m\u001b[0m\u001b[0;34m\u001b[0m\u001b[0m\n\u001b[1;32m     38\u001b[0m \u001b[0;34m\u001b[0m\u001b[0m\n",
            "\u001b[0;32m/usr/local/lib/python3.6/dist-packages/keras/legacy/interfaces.py\u001b[0m in \u001b[0;36mwrapper\u001b[0;34m(*args, **kwargs)\u001b[0m\n\u001b[1;32m     89\u001b[0m                 warnings.warn('Update your `' + object_name + '` call to the ' +\n\u001b[1;32m     90\u001b[0m                               'Keras 2 API: ' + signature, stacklevel=2)\n\u001b[0;32m---> 91\u001b[0;31m             \u001b[0;32mreturn\u001b[0m \u001b[0mfunc\u001b[0m\u001b[0;34m(\u001b[0m\u001b[0;34m*\u001b[0m\u001b[0margs\u001b[0m\u001b[0;34m,\u001b[0m \u001b[0;34m**\u001b[0m\u001b[0mkwargs\u001b[0m\u001b[0;34m)\u001b[0m\u001b[0;34m\u001b[0m\u001b[0;34m\u001b[0m\u001b[0m\n\u001b[0m\u001b[1;32m     92\u001b[0m         \u001b[0mwrapper\u001b[0m\u001b[0;34m.\u001b[0m\u001b[0m_original_function\u001b[0m \u001b[0;34m=\u001b[0m \u001b[0mfunc\u001b[0m\u001b[0;34m\u001b[0m\u001b[0;34m\u001b[0m\u001b[0m\n\u001b[1;32m     93\u001b[0m         \u001b[0;32mreturn\u001b[0m \u001b[0mwrapper\u001b[0m\u001b[0;34m\u001b[0m\u001b[0;34m\u001b[0m\u001b[0m\n",
            "\u001b[0;32m/usr/local/lib/python3.6/dist-packages/keras/engine/network.py\u001b[0m in \u001b[0;36m__init__\u001b[0;34m(self, *args, **kwargs)\u001b[0m\n\u001b[1;32m     92\u001b[0m                 'inputs' in kwargs and 'outputs' in kwargs):\n\u001b[1;32m     93\u001b[0m             \u001b[0;31m# Graph network\u001b[0m\u001b[0;34m\u001b[0m\u001b[0;34m\u001b[0m\u001b[0;34m\u001b[0m\u001b[0m\n\u001b[0;32m---> 94\u001b[0;31m             \u001b[0mself\u001b[0m\u001b[0;34m.\u001b[0m\u001b[0m_init_graph_network\u001b[0m\u001b[0;34m(\u001b[0m\u001b[0;34m*\u001b[0m\u001b[0margs\u001b[0m\u001b[0;34m,\u001b[0m \u001b[0;34m**\u001b[0m\u001b[0mkwargs\u001b[0m\u001b[0;34m)\u001b[0m\u001b[0;34m\u001b[0m\u001b[0;34m\u001b[0m\u001b[0m\n\u001b[0m\u001b[1;32m     95\u001b[0m         \u001b[0;32melse\u001b[0m\u001b[0;34m:\u001b[0m\u001b[0;34m\u001b[0m\u001b[0;34m\u001b[0m\u001b[0m\n\u001b[1;32m     96\u001b[0m             \u001b[0;31m# Subclassed network\u001b[0m\u001b[0;34m\u001b[0m\u001b[0;34m\u001b[0m\u001b[0;34m\u001b[0m\u001b[0m\n",
            "\u001b[0;32m/usr/local/lib/python3.6/dist-packages/keras/engine/network.py\u001b[0m in \u001b[0;36m_init_graph_network\u001b[0;34m(self, inputs, outputs, name, **kwargs)\u001b[0m\n\u001b[1;32m    235\u001b[0m         \u001b[0;31m# Keep track of the network's nodes and layers.\u001b[0m\u001b[0;34m\u001b[0m\u001b[0;34m\u001b[0m\u001b[0;34m\u001b[0m\u001b[0m\n\u001b[1;32m    236\u001b[0m         nodes, nodes_by_depth, layers, layers_by_depth = _map_graph_network(\n\u001b[0;32m--> 237\u001b[0;31m             self.inputs, self.outputs)\n\u001b[0m\u001b[1;32m    238\u001b[0m         \u001b[0mself\u001b[0m\u001b[0;34m.\u001b[0m\u001b[0m_network_nodes\u001b[0m \u001b[0;34m=\u001b[0m \u001b[0mnodes\u001b[0m\u001b[0;34m\u001b[0m\u001b[0;34m\u001b[0m\u001b[0m\n\u001b[1;32m    239\u001b[0m         \u001b[0mself\u001b[0m\u001b[0;34m.\u001b[0m\u001b[0m_nodes_by_depth\u001b[0m \u001b[0;34m=\u001b[0m \u001b[0mnodes_by_depth\u001b[0m\u001b[0;34m\u001b[0m\u001b[0;34m\u001b[0m\u001b[0m\n",
            "\u001b[0;32m/usr/local/lib/python3.6/dist-packages/keras/engine/network.py\u001b[0m in \u001b[0;36m_map_graph_network\u001b[0;34m(inputs, outputs)\u001b[0m\n\u001b[1;32m   1419\u001b[0m                   \u001b[0mlayer\u001b[0m\u001b[0;34m=\u001b[0m\u001b[0mlayer\u001b[0m\u001b[0;34m,\u001b[0m\u001b[0;34m\u001b[0m\u001b[0;34m\u001b[0m\u001b[0m\n\u001b[1;32m   1420\u001b[0m                   \u001b[0mnode_index\u001b[0m\u001b[0;34m=\u001b[0m\u001b[0mnode_index\u001b[0m\u001b[0;34m,\u001b[0m\u001b[0;34m\u001b[0m\u001b[0;34m\u001b[0m\u001b[0m\n\u001b[0;32m-> 1421\u001b[0;31m                   tensor_index=tensor_index)\n\u001b[0m\u001b[1;32m   1422\u001b[0m \u001b[0;34m\u001b[0m\u001b[0m\n\u001b[1;32m   1423\u001b[0m     \u001b[0;32mfor\u001b[0m \u001b[0mnode\u001b[0m \u001b[0;32min\u001b[0m \u001b[0mreversed\u001b[0m\u001b[0;34m(\u001b[0m\u001b[0mnodes_in_decreasing_depth\u001b[0m\u001b[0;34m)\u001b[0m\u001b[0;34m:\u001b[0m\u001b[0;34m\u001b[0m\u001b[0;34m\u001b[0m\u001b[0m\n",
            "\u001b[0;32m/usr/local/lib/python3.6/dist-packages/keras/engine/network.py\u001b[0m in \u001b[0;36mbuild_map\u001b[0;34m(tensor, finished_nodes, nodes_in_progress, layer, node_index, tensor_index)\u001b[0m\n\u001b[1;32m   1400\u001b[0m \u001b[0;34m\u001b[0m\u001b[0m\n\u001b[1;32m   1401\u001b[0m         \u001b[0;31m# Propagate to all previous tensors connected to this node.\u001b[0m\u001b[0;34m\u001b[0m\u001b[0;34m\u001b[0m\u001b[0;34m\u001b[0m\u001b[0m\n\u001b[0;32m-> 1402\u001b[0;31m         \u001b[0;32mfor\u001b[0m \u001b[0mi\u001b[0m \u001b[0;32min\u001b[0m \u001b[0mrange\u001b[0m\u001b[0;34m(\u001b[0m\u001b[0mlen\u001b[0m\u001b[0;34m(\u001b[0m\u001b[0mnode\u001b[0m\u001b[0;34m.\u001b[0m\u001b[0minbound_layers\u001b[0m\u001b[0;34m)\u001b[0m\u001b[0;34m)\u001b[0m\u001b[0;34m:\u001b[0m\u001b[0;34m\u001b[0m\u001b[0;34m\u001b[0m\u001b[0m\n\u001b[0m\u001b[1;32m   1403\u001b[0m             \u001b[0mx\u001b[0m \u001b[0;34m=\u001b[0m \u001b[0mnode\u001b[0m\u001b[0;34m.\u001b[0m\u001b[0minput_tensors\u001b[0m\u001b[0;34m[\u001b[0m\u001b[0mi\u001b[0m\u001b[0;34m]\u001b[0m\u001b[0;34m\u001b[0m\u001b[0;34m\u001b[0m\u001b[0m\n\u001b[1;32m   1404\u001b[0m             \u001b[0mlayer\u001b[0m \u001b[0;34m=\u001b[0m \u001b[0mnode\u001b[0m\u001b[0;34m.\u001b[0m\u001b[0minbound_layers\u001b[0m\u001b[0;34m[\u001b[0m\u001b[0mi\u001b[0m\u001b[0;34m]\u001b[0m\u001b[0;34m\u001b[0m\u001b[0;34m\u001b[0m\u001b[0m\n",
            "\u001b[0;31mTypeError\u001b[0m: object of type 'Dense' has no len()"
          ]
        }
      ]
    },
    {
      "cell_type": "markdown",
      "metadata": {
        "id": "rPxcAy6yHYIO",
        "colab_type": "text"
      },
      "source": [
        "Plot all of your loss functions and label them accordingly. "
      ]
    },
    {
      "cell_type": "code",
      "metadata": {
        "id": "n1RLNXUeHgFF",
        "colab_type": "code",
        "colab": {}
      },
      "source": [
        ""
      ],
      "execution_count": 0,
      "outputs": []
    },
    {
      "cell_type": "markdown",
      "metadata": {
        "id": "lxHl3i_3HgX_",
        "colab_type": "text"
      },
      "source": [
        "Show three examples of photos generated of your first class."
      ]
    },
    {
      "cell_type": "code",
      "metadata": {
        "id": "PTzqSSP5HpQX",
        "colab_type": "code",
        "colab": {}
      },
      "source": [
        ""
      ],
      "execution_count": 0,
      "outputs": []
    },
    {
      "cell_type": "markdown",
      "metadata": {
        "id": "qtiF9UMbHpiW",
        "colab_type": "text"
      },
      "source": [
        "Show three examples of photos generated of your second class."
      ]
    },
    {
      "cell_type": "code",
      "metadata": {
        "id": "BImdFikeHsHH",
        "colab_type": "code",
        "colab": {}
      },
      "source": [
        ""
      ],
      "execution_count": 0,
      "outputs": []
    }
  ]
}
